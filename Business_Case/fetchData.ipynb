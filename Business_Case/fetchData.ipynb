{
 "cells": [
  {
   "cell_type": "code",
   "execution_count": 1,
   "metadata": {},
   "outputs": [],
   "source": [
    "import datetime\n",
    "import praw\n",
    "import pandas as pd\n",
    "from keys import client_id, client_secret"
   ]
  },
  {
   "cell_type": "markdown",
   "metadata": {},
   "source": [
    "### Collecting the posts for our topic"
   ]
  },
  {
   "cell_type": "markdown",
   "metadata": {},
   "source": [
    "Initializing a Reddit Instance"
   ]
  },
  {
   "cell_type": "code",
   "execution_count": 2,
   "metadata": {},
   "outputs": [],
   "source": [
    "reddit = praw.Reddit( client_id=client_id,\n",
    "                      client_secret=client_secret,\n",
    "                      user_agent='android:my_app:v1 (by /u/CosmicGoose98)')"
   ]
  },
  {
   "cell_type": "markdown",
   "metadata": {},
   "source": [
    "Calling the API and building a dataframe from it"
   ]
  },
  {
   "cell_type": "code",
   "execution_count": 3,
   "metadata": {},
   "outputs": [],
   "source": [
    "bitcoin = reddit.subreddit('Bitcoin')\n",
    "\n",
    "#Gathering the top 500 posts, with their title, url, body, upvotes, timestamp, and an index that serves as a key between the\n",
    "#posts and the comments we collect later\n",
    "posts = []\n",
    "for index, post in enumerate(bitcoin.top(limit=30)):\n",
    "    posts.append([post.title, \"https://www.reddit.com\" + post.permalink, post.selftext, post.score, post.created_utc, index])\n",
    "\n",
    "#Converting into DataFrame\n",
    "posts = pd.DataFrame(posts, columns=['Title', 'URL', 'Body', 'Upvotes', 'Time', 'Key'])\n",
    "#Changing from utc time to standard timestamp\n",
    "posts.Time = posts.Time.apply(lambda x: pd.to_datetime(datetime.datetime.fromtimestamp(x)))\n",
    "\n",
    "#The first post is a sticky, so we can drop it\n",
    "posts = posts.iloc[1:]"
   ]
  },
  {
   "cell_type": "code",
   "execution_count": 4,
   "metadata": {},
   "outputs": [
    {
     "data": {
      "text/html": [
       "<div>\n",
       "<style scoped>\n",
       "    .dataframe tbody tr th:only-of-type {\n",
       "        vertical-align: middle;\n",
       "    }\n",
       "\n",
       "    .dataframe tbody tr th {\n",
       "        vertical-align: top;\n",
       "    }\n",
       "\n",
       "    .dataframe thead th {\n",
       "        text-align: right;\n",
       "    }\n",
       "</style>\n",
       "<table border=\"1\" class=\"dataframe\">\n",
       "  <thead>\n",
       "    <tr style=\"text-align: right;\">\n",
       "      <th></th>\n",
       "      <th>Title</th>\n",
       "      <th>URL</th>\n",
       "      <th>Body</th>\n",
       "      <th>Upvotes</th>\n",
       "      <th>Time</th>\n",
       "      <th>Key</th>\n",
       "    </tr>\n",
       "  </thead>\n",
       "  <tbody>\n",
       "    <tr>\n",
       "      <th>1</th>\n",
       "      <td>The last 3 months in 47 seconds.</td>\n",
       "      <td>https://www.reddit.com/r/Bitcoin/comments/7v43...</td>\n",
       "      <td></td>\n",
       "      <td>48468</td>\n",
       "      <td>2018-02-04 15:42:03</td>\n",
       "      <td>1</td>\n",
       "    </tr>\n",
       "    <tr>\n",
       "      <th>2</th>\n",
       "      <td>It's over 9000!!!</td>\n",
       "      <td>https://www.reddit.com/r/Bitcoin/comments/7fkq...</td>\n",
       "      <td></td>\n",
       "      <td>42441</td>\n",
       "      <td>2017-11-26 17:55:02</td>\n",
       "      <td>2</td>\n",
       "    </tr>\n",
       "    <tr>\n",
       "      <th>3</th>\n",
       "      <td>Everyone who's trading BTC right now</td>\n",
       "      <td>https://www.reddit.com/r/Bitcoin/comments/7olr...</td>\n",
       "      <td></td>\n",
       "      <td>42052</td>\n",
       "      <td>2018-01-07 09:38:56</td>\n",
       "      <td>3</td>\n",
       "    </tr>\n",
       "  </tbody>\n",
       "</table>\n",
       "</div>"
      ],
      "text/plain": [
       "                                  Title  \\\n",
       "1      The last 3 months in 47 seconds.   \n",
       "2                     It's over 9000!!!   \n",
       "3  Everyone who's trading BTC right now   \n",
       "\n",
       "                                                 URL Body  Upvotes  \\\n",
       "1  https://www.reddit.com/r/Bitcoin/comments/7v43...         48468   \n",
       "2  https://www.reddit.com/r/Bitcoin/comments/7fkq...         42441   \n",
       "3  https://www.reddit.com/r/Bitcoin/comments/7olr...         42052   \n",
       "\n",
       "                 Time  Key  \n",
       "1 2018-02-04 15:42:03    1  \n",
       "2 2017-11-26 17:55:02    2  \n",
       "3 2018-01-07 09:38:56    3  "
      ]
     },
     "execution_count": 4,
     "metadata": {},
     "output_type": "execute_result"
    }
   ],
   "source": [
    "posts.head(3)"
   ]
  },
  {
   "cell_type": "code",
   "execution_count": 5,
   "metadata": {},
   "outputs": [
    {
     "data": {
      "text/plain": [
       "(29, 6)"
      ]
     },
     "execution_count": 5,
     "metadata": {},
     "output_type": "execute_result"
    }
   ],
   "source": [
    "posts.shape"
   ]
  },
  {
   "cell_type": "markdown",
   "metadata": {},
   "source": [
    "### Collecting the comments for each of our posts"
   ]
  },
  {
   "cell_type": "markdown",
   "metadata": {},
   "source": [
    "We want to get all the comments for the posts we collected"
   ]
  },
  {
   "cell_type": "code",
   "execution_count": 6,
   "metadata": {},
   "outputs": [],
   "source": [
    "def collect_replies(key, url):\n",
    "    ''' \n",
    "    params pandas series row: each row of the dataframe we built above in the form of a panda series\n",
    "    Returns a pandas DataFrame, where each row represents an individual comment\n",
    "    '''\n",
    "    submission = reddit.submission(url=url)\n",
    "    submission.comments.replace_more(limit=None)\n",
    "    comment_queue = submission.comments[:] \n",
    "\n",
    "    table = {'Reply':[], 'Upvote':[], 'Time':[], 'Key':[]}\n",
    "\n",
    "    while comment_queue:\n",
    "        comment = comment_queue.pop(0)\n",
    "        table['Reply'].append(comment.body)\n",
    "        table['Time'].append(comment.created_utc)\n",
    "        table['Upvote'].append(comment.score)\n",
    "        table['Key'].append(key)\n",
    "        comment_queue.extend(comment.replies)\n",
    "    \n",
    "    return pd.DataFrame.from_dict(table)"
   ]
  },
  {
   "cell_type": "markdown",
   "metadata": {},
   "source": [
    "Now the function has been defined, we create our dataframe of comments. Using list comprehensions will speed things up slightly"
   ]
  },
  {
   "cell_type": "code",
   "execution_count": 7,
   "metadata": {},
   "outputs": [],
   "source": [
    "#Let us first generate a list of tupules that contains the key and url for each row - the first value of the tupule is key,\n",
    "#and the second value is url\n",
    "keys = posts.Key.tolist()\n",
    "urls = posts.URL.tolist()\n",
    "tupules = list(zip(keys, urls))\n",
    "\n",
    "#Now we generate our comments dataframe using list comprehensions!\n",
    "comments = pd.concat([collect_replies(x[0], x[1]) for x in tupules])"
   ]
  },
  {
   "cell_type": "code",
   "execution_count": 8,
   "metadata": {},
   "outputs": [],
   "source": [
    "#Again, converting the timestamp from utc to a standard format\n",
    "comments.Time = comments.Time.apply(lambda x: pd.to_datetime(datetime.datetime.fromtimestamp(x)))"
   ]
  },
  {
   "cell_type": "code",
   "execution_count": 9,
   "metadata": {},
   "outputs": [
    {
     "data": {
      "text/html": [
       "<div>\n",
       "<style scoped>\n",
       "    .dataframe tbody tr th:only-of-type {\n",
       "        vertical-align: middle;\n",
       "    }\n",
       "\n",
       "    .dataframe tbody tr th {\n",
       "        vertical-align: top;\n",
       "    }\n",
       "\n",
       "    .dataframe thead th {\n",
       "        text-align: right;\n",
       "    }\n",
       "</style>\n",
       "<table border=\"1\" class=\"dataframe\">\n",
       "  <thead>\n",
       "    <tr style=\"text-align: right;\">\n",
       "      <th></th>\n",
       "      <th>Reply</th>\n",
       "      <th>Upvote</th>\n",
       "      <th>Time</th>\n",
       "      <th>Key</th>\n",
       "    </tr>\n",
       "  </thead>\n",
       "  <tbody>\n",
       "    <tr>\n",
       "      <th>0</th>\n",
       "      <td>Brilliant.\\n\\nEdit: \\n\\nWell, as I’m here I ma...</td>\n",
       "      <td>4543</td>\n",
       "      <td>2018-02-04 15:49:03</td>\n",
       "      <td>1</td>\n",
       "    </tr>\n",
       "    <tr>\n",
       "      <th>1</th>\n",
       "      <td>Awesome, except all the other coins fell in af...</td>\n",
       "      <td>744</td>\n",
       "      <td>2018-02-04 17:17:05</td>\n",
       "      <td>1</td>\n",
       "    </tr>\n",
       "    <tr>\n",
       "      <th>2</th>\n",
       "      <td>Best Simpsons ever</td>\n",
       "      <td>858</td>\n",
       "      <td>2018-02-04 16:05:41</td>\n",
       "      <td>1</td>\n",
       "    </tr>\n",
       "    <tr>\n",
       "      <th>3</th>\n",
       "      <td>Simpsons predicted Bitcoin, again</td>\n",
       "      <td>369</td>\n",
       "      <td>2018-02-04 16:42:58</td>\n",
       "      <td>1</td>\n",
       "    </tr>\n",
       "    <tr>\n",
       "      <th>4</th>\n",
       "      <td>The things that fall on Homers head are 1) Alt...</td>\n",
       "      <td>971</td>\n",
       "      <td>2018-02-04 17:39:30</td>\n",
       "      <td>1</td>\n",
       "    </tr>\n",
       "    <tr>\n",
       "      <th>5</th>\n",
       "      <td>Remember Bitcoin? It’s back! In POG form!</td>\n",
       "      <td>139</td>\n",
       "      <td>2018-02-04 19:01:52</td>\n",
       "      <td>1</td>\n",
       "    </tr>\n",
       "    <tr>\n",
       "      <th>6</th>\n",
       "      <td>This is gold.</td>\n",
       "      <td>117</td>\n",
       "      <td>2018-02-04 16:31:44</td>\n",
       "      <td>1</td>\n",
       "    </tr>\n",
       "    <tr>\n",
       "      <th>7</th>\n",
       "      <td>proof that /r/HighQualityGifs  could be funny ...</td>\n",
       "      <td>1826</td>\n",
       "      <td>2018-02-04 18:14:30</td>\n",
       "      <td>1</td>\n",
       "    </tr>\n",
       "    <tr>\n",
       "      <th>8</th>\n",
       "      <td>Is this why my friends on social media stopped...</td>\n",
       "      <td>33</td>\n",
       "      <td>2018-02-04 21:14:00</td>\n",
       "      <td>1</td>\n",
       "    </tr>\n",
       "    <tr>\n",
       "      <th>9</th>\n",
       "      <td>Bitconeeeeeeeeeeeeeeeect👍</td>\n",
       "      <td>27</td>\n",
       "      <td>2018-02-04 18:53:36</td>\n",
       "      <td>1</td>\n",
       "    </tr>\n",
       "    <tr>\n",
       "      <th>10</th>\n",
       "      <td>The only inaccurate part is the alts at the to...</td>\n",
       "      <td>17</td>\n",
       "      <td>2018-02-04 18:47:40</td>\n",
       "      <td>1</td>\n",
       "    </tr>\n",
       "    <tr>\n",
       "      <th>11</th>\n",
       "      <td>Top Quality shit post. UPVOTE</td>\n",
       "      <td>167</td>\n",
       "      <td>2018-02-04 16:37:29</td>\n",
       "      <td>1</td>\n",
       "    </tr>\n",
       "    <tr>\n",
       "      <th>12</th>\n",
       "      <td>One of my favourite episodes!! This one and [t...</td>\n",
       "      <td>33</td>\n",
       "      <td>2018-02-04 17:25:29</td>\n",
       "      <td>1</td>\n",
       "    </tr>\n",
       "    <tr>\n",
       "      <th>13</th>\n",
       "      <td>needs \"D'hodl!\"</td>\n",
       "      <td>15</td>\n",
       "      <td>2018-02-04 19:00:06</td>\n",
       "      <td>1</td>\n",
       "    </tr>\n",
       "    <tr>\n",
       "      <th>14</th>\n",
       "      <td>What is dead may never die</td>\n",
       "      <td>41</td>\n",
       "      <td>2018-02-04 17:50:46</td>\n",
       "      <td>1</td>\n",
       "    </tr>\n",
       "    <tr>\n",
       "      <th>15</th>\n",
       "      <td>The memes are getting better &amp; better.</td>\n",
       "      <td>50</td>\n",
       "      <td>2018-02-04 16:33:08</td>\n",
       "      <td>1</td>\n",
       "    </tr>\n",
       "    <tr>\n",
       "      <th>16</th>\n",
       "      <td>I didn’t sell at 20k because it’s gonna hit 10...</td>\n",
       "      <td>83</td>\n",
       "      <td>2018-02-04 18:23:54</td>\n",
       "      <td>1</td>\n",
       "    </tr>\n",
       "    <tr>\n",
       "      <th>17</th>\n",
       "      <td>I can’t believe BTC investors are so annoyed t...</td>\n",
       "      <td>33</td>\n",
       "      <td>2018-02-04 19:01:25</td>\n",
       "      <td>1</td>\n",
       "    </tr>\n",
       "    <tr>\n",
       "      <th>18</th>\n",
       "      <td>WTF is a hodler</td>\n",
       "      <td>76</td>\n",
       "      <td>2018-02-04 18:06:56</td>\n",
       "      <td>1</td>\n",
       "    </tr>\n",
       "    <tr>\n",
       "      <th>19</th>\n",
       "      <td>So guessing this is true ? Will this affect th...</td>\n",
       "      <td>7</td>\n",
       "      <td>2018-02-04 18:39:01</td>\n",
       "      <td>1</td>\n",
       "    </tr>\n",
       "  </tbody>\n",
       "</table>\n",
       "</div>"
      ],
      "text/plain": [
       "                                                Reply  Upvote  \\\n",
       "0   Brilliant.\\n\\nEdit: \\n\\nWell, as I’m here I ma...    4543   \n",
       "1   Awesome, except all the other coins fell in af...     744   \n",
       "2                                  Best Simpsons ever     858   \n",
       "3                   Simpsons predicted Bitcoin, again     369   \n",
       "4   The things that fall on Homers head are 1) Alt...     971   \n",
       "5           Remember Bitcoin? It’s back! In POG form!     139   \n",
       "6                                       This is gold.     117   \n",
       "7   proof that /r/HighQualityGifs  could be funny ...    1826   \n",
       "8   Is this why my friends on social media stopped...      33   \n",
       "9                           Bitconeeeeeeeeeeeeeeeect👍      27   \n",
       "10  The only inaccurate part is the alts at the to...      17   \n",
       "11                      Top Quality shit post. UPVOTE     167   \n",
       "12  One of my favourite episodes!! This one and [t...      33   \n",
       "13                                    needs \"D'hodl!\"      15   \n",
       "14                         What is dead may never die      41   \n",
       "15            The memes are getting better & better.       50   \n",
       "16  I didn’t sell at 20k because it’s gonna hit 10...      83   \n",
       "17  I can’t believe BTC investors are so annoyed t...      33   \n",
       "18                                   WTF is a hodler       76   \n",
       "19  So guessing this is true ? Will this affect th...       7   \n",
       "\n",
       "                  Time  Key  \n",
       "0  2018-02-04 15:49:03    1  \n",
       "1  2018-02-04 17:17:05    1  \n",
       "2  2018-02-04 16:05:41    1  \n",
       "3  2018-02-04 16:42:58    1  \n",
       "4  2018-02-04 17:39:30    1  \n",
       "5  2018-02-04 19:01:52    1  \n",
       "6  2018-02-04 16:31:44    1  \n",
       "7  2018-02-04 18:14:30    1  \n",
       "8  2018-02-04 21:14:00    1  \n",
       "9  2018-02-04 18:53:36    1  \n",
       "10 2018-02-04 18:47:40    1  \n",
       "11 2018-02-04 16:37:29    1  \n",
       "12 2018-02-04 17:25:29    1  \n",
       "13 2018-02-04 19:00:06    1  \n",
       "14 2018-02-04 17:50:46    1  \n",
       "15 2018-02-04 16:33:08    1  \n",
       "16 2018-02-04 18:23:54    1  \n",
       "17 2018-02-04 19:01:25    1  \n",
       "18 2018-02-04 18:06:56    1  \n",
       "19 2018-02-04 18:39:01    1  "
      ]
     },
     "execution_count": 9,
     "metadata": {},
     "output_type": "execute_result"
    }
   ],
   "source": [
    "comments.head(20)"
   ]
  },
  {
   "cell_type": "code",
   "execution_count": 10,
   "metadata": {},
   "outputs": [
    {
     "data": {
      "text/plain": [
       "(33101, 4)"
      ]
     },
     "execution_count": 10,
     "metadata": {},
     "output_type": "execute_result"
    }
   ],
   "source": [
    "comments.shape"
   ]
  },
  {
   "cell_type": "code",
   "execution_count": 13,
   "metadata": {},
   "outputs": [],
   "source": [
    "comments.to_csv('Comments_.csv', index=False)"
   ]
  },
  {
   "cell_type": "code",
   "execution_count": 14,
   "metadata": {},
   "outputs": [],
   "source": [
    "posts.to_csv('Posts.csv', index=False)"
   ]
  },
  {
   "cell_type": "code",
   "execution_count": null,
   "metadata": {},
   "outputs": [],
   "source": []
  }
 ],
 "metadata": {
  "kernelspec": {
   "display_name": "Python 3",
   "language": "python",
   "name": "python3"
  },
  "language_info": {
   "codemirror_mode": {
    "name": "ipython",
    "version": 3
   },
   "file_extension": ".py",
   "mimetype": "text/x-python",
   "name": "python",
   "nbconvert_exporter": "python",
   "pygments_lexer": "ipython3",
   "version": "3.7.7"
  }
 },
 "nbformat": 4,
 "nbformat_minor": 4
}
