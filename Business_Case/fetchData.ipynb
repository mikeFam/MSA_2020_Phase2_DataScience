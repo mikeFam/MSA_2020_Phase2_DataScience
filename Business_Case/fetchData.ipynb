{
 "cells": [
  {
   "cell_type": "code",
   "execution_count": 1,
   "metadata": {},
   "outputs": [],
   "source": [
    "import datetime\n",
    "import praw\n",
    "import pandas as pd\n",
    "from keys import client_id, client_secret"
   ]
  },
  {
   "cell_type": "markdown",
   "metadata": {},
   "source": [
    "### Collecting the posts for our topic"
   ]
  },
  {
   "cell_type": "markdown",
   "metadata": {},
   "source": [
    "Initializing a Reddit Instance"
   ]
  },
  {
   "cell_type": "code",
   "execution_count": 2,
   "metadata": {},
   "outputs": [],
   "source": [
    "reddit = praw.Reddit( client_id=client_id,\n",
    "                      client_secret=client_secret,\n",
    "                      user_agent='android:my_app:v1 (by /u/CosmicGoose98)')"
   ]
  },
  {
   "cell_type": "markdown",
   "metadata": {},
   "source": [
    "Calling the API and building a dataframe from it"
   ]
  },
  {
   "cell_type": "code",
   "execution_count": 3,
   "metadata": {},
   "outputs": [],
   "source": [
    "bitcoin = reddit.subreddit('Bitcoin')\n",
    "\n",
    "#Gathering the top 500 posts, with their title, url, body, upvotes, timestamp, and an index that serves as a key between the\n",
    "#posts and the comments we collect later\n",
    "posts = []\n",
    "for index, post in enumerate(bitcoin.top(limit=30)):\n",
    "    posts.append([post.title, \"https://www.reddit.com\" + post.permalink, post.selftext, post.score, post.created_utc, index])\n",
    "\n",
    "#Converting into DataFrame\n",
    "posts = pd.DataFrame(posts, columns=['Title', 'URL', 'Body', 'Upvotes', 'Time', 'Key'])\n",
    "#Changing from utc time to standard timestamp\n",
    "posts.Time = posts.Time.apply(lambda x: pd.to_datetime(datetime.datetime.fromtimestamp(x)))\n",
    "\n",
    "#The first post is a sticky, so we can drop it\n",
    "posts = posts.iloc[1:]"
   ]
  },
  {
   "cell_type": "markdown",
   "metadata": {},
   "source": [
    "### Collecting the comments for each of our posts"
   ]
  },
  {
   "cell_type": "markdown",
   "metadata": {},
   "source": [
    "We want to get all the comments for the posts we collected"
   ]
  },
  {
   "cell_type": "code",
   "execution_count": 6,
   "metadata": {},
   "outputs": [],
   "source": [
    "def collect_replies(key, url):\n",
    "    ''' \n",
    "    params pandas series row: each row of the dataframe we built above in the form of a panda series\n",
    "    Returns a pandas DataFrame, where each row represents an individual comment\n",
    "    '''\n",
    "    submission = reddit.submission(url=url)\n",
    "    submission.comments.replace_more(limit=None)\n",
    "    comment_queue = submission.comments[:] \n",
    "\n",
    "    table = {'Reply':[], 'Upvote':[], 'Time':[], 'Key':[]}\n",
    "\n",
    "    while comment_queue:\n",
    "        comment = comment_queue.pop(0)\n",
    "        table['Reply'].append(comment.body)\n",
    "        table['Time'].append(comment.created_utc)\n",
    "        table['Upvote'].append(comment.score)\n",
    "        table['Key'].append(key)\n",
    "        comment_queue.extend(comment.replies)\n",
    "    \n",
    "    return pd.DataFrame.from_dict(table)"
   ]
  },
  {
   "cell_type": "markdown",
   "metadata": {},
   "source": [
    "Now the function has been defined, we create our dataframe of comments. Using list comprehensions will speed things up slightly"
   ]
  },
  {
   "cell_type": "code",
   "execution_count": 7,
   "metadata": {},
   "outputs": [],
   "source": [
    "#Let us first generate a list of tupules that contains the key and url for each row - the first value of the tupule is key,\n",
    "#and the second value is url\n",
    "keys = posts.Key.tolist()\n",
    "urls = posts.URL.tolist()\n",
    "tupules = list(zip(keys, urls))\n",
    "\n",
    "#Now we generate our comments dataframe using list comprehensions!\n",
    "comments = pd.concat([collect_replies(x[0], x[1]) for x in tupules])"
   ]
  },
  {
   "cell_type": "code",
   "execution_count": 8,
   "metadata": {},
   "outputs": [],
   "source": [
    "#Again, converting the timestamp from utc to a standard format\n",
    "comments.Time = comments.Time.apply(lambda x: pd.to_datetime(datetime.datetime.fromtimestamp(x)))"
   ]
  },
  {
   "cell_type": "code",
   "execution_count": 13,
   "metadata": {},
   "outputs": [],
   "source": [
    "comments.to_csv('Comments_.csv', index=False)"
   ]
  },
  {
   "cell_type": "code",
   "execution_count": 14,
   "metadata": {},
   "outputs": [],
   "source": [
    "posts.to_csv('Posts.csv', index=False)"
   ]
  },
  {
   "cell_type": "code",
   "execution_count": null,
   "metadata": {},
   "outputs": [],
   "source": []
  }
 ],
 "metadata": {
  "kernelspec": {
   "display_name": "Python 3",
   "language": "python",
   "name": "python3"
  },
  "language_info": {
   "codemirror_mode": {
    "name": "ipython",
    "version": 3
   },
   "file_extension": ".py",
   "mimetype": "text/x-python",
   "name": "python",
   "nbconvert_exporter": "python",
   "pygments_lexer": "ipython3",
   "version": "3.7.7"
  }
 },
 "nbformat": 4,
 "nbformat_minor": 4
}
