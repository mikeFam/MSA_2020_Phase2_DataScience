{
 "cells": [
  {
   "cell_type": "markdown",
   "metadata": {},
   "source": [
    "# Business Case: BitCoin Sentiment Analysis\n",
    "\n",
    "**_Author: Michael Pham_**\n",
    "\n",
    "### Introduction:\n",
    "Bitcoin is digital currency that has taken a huge attention from the public by being a quick growing asset. Because of this, Private Investors are interested in what the sentimental values surrounding bitcoin is to make a more informed investment. By using the comments/discussions on the Bitcoin sub-Reddit, I can find out if Bitcoin is positively perceived by the public. \n"
   ]
  },
  {
   "cell_type": "markdown",
   "metadata": {},
   "source": [
    "# Load and Clean DataSet"
   ]
  },
  {
   "cell_type": "code",
   "execution_count": 1,
   "metadata": {},
   "outputs": [],
   "source": [
    "import re \n",
    "import pandas as pd\n",
    "import nltk "
   ]
  },
  {
   "cell_type": "code",
   "execution_count": 2,
   "metadata": {},
   "outputs": [],
   "source": [
    "comments = pd.read_csv('comments.csv')"
   ]
  },
  {
   "cell_type": "code",
   "execution_count": 3,
   "metadata": {},
   "outputs": [
    {
     "data": {
      "text/html": [
       "<div>\n",
       "<style scoped>\n",
       "    .dataframe tbody tr th:only-of-type {\n",
       "        vertical-align: middle;\n",
       "    }\n",
       "\n",
       "    .dataframe tbody tr th {\n",
       "        vertical-align: top;\n",
       "    }\n",
       "\n",
       "    .dataframe thead th {\n",
       "        text-align: right;\n",
       "    }\n",
       "</style>\n",
       "<table border=\"1\" class=\"dataframe\">\n",
       "  <thead>\n",
       "    <tr style=\"text-align: right;\">\n",
       "      <th></th>\n",
       "      <th>Reply</th>\n",
       "      <th>Upvote</th>\n",
       "      <th>Time</th>\n",
       "      <th>Key</th>\n",
       "    </tr>\n",
       "  </thead>\n",
       "  <tbody>\n",
       "    <tr>\n",
       "      <th>0</th>\n",
       "      <td>Brilliant.\\r\\n\\r\\nEdit: \\r\\n\\r\\nWell, as I’m h...</td>\n",
       "      <td>4543</td>\n",
       "      <td>2018-02-04 15:49:03</td>\n",
       "      <td>1</td>\n",
       "    </tr>\n",
       "    <tr>\n",
       "      <th>1</th>\n",
       "      <td>Awesome, except all the other coins fell in af...</td>\n",
       "      <td>744</td>\n",
       "      <td>2018-02-04 17:17:05</td>\n",
       "      <td>1</td>\n",
       "    </tr>\n",
       "    <tr>\n",
       "      <th>2</th>\n",
       "      <td>Best Simpsons ever</td>\n",
       "      <td>858</td>\n",
       "      <td>2018-02-04 16:05:41</td>\n",
       "      <td>1</td>\n",
       "    </tr>\n",
       "    <tr>\n",
       "      <th>3</th>\n",
       "      <td>Simpsons predicted Bitcoin, again</td>\n",
       "      <td>369</td>\n",
       "      <td>2018-02-04 16:42:58</td>\n",
       "      <td>1</td>\n",
       "    </tr>\n",
       "    <tr>\n",
       "      <th>4</th>\n",
       "      <td>The things that fall on Homers head are 1) Alt...</td>\n",
       "      <td>971</td>\n",
       "      <td>2018-02-04 17:39:30</td>\n",
       "      <td>1</td>\n",
       "    </tr>\n",
       "    <tr>\n",
       "      <th>5</th>\n",
       "      <td>Remember Bitcoin? It’s back! In POG form!</td>\n",
       "      <td>139</td>\n",
       "      <td>2018-02-04 19:01:52</td>\n",
       "      <td>1</td>\n",
       "    </tr>\n",
       "    <tr>\n",
       "      <th>6</th>\n",
       "      <td>This is gold.</td>\n",
       "      <td>117</td>\n",
       "      <td>2018-02-04 16:31:44</td>\n",
       "      <td>1</td>\n",
       "    </tr>\n",
       "    <tr>\n",
       "      <th>7</th>\n",
       "      <td>proof that /r/HighQualityGifs  could be funny ...</td>\n",
       "      <td>1826</td>\n",
       "      <td>2018-02-04 18:14:30</td>\n",
       "      <td>1</td>\n",
       "    </tr>\n",
       "    <tr>\n",
       "      <th>8</th>\n",
       "      <td>Is this why my friends on social media stopped...</td>\n",
       "      <td>33</td>\n",
       "      <td>2018-02-04 21:14:00</td>\n",
       "      <td>1</td>\n",
       "    </tr>\n",
       "    <tr>\n",
       "      <th>9</th>\n",
       "      <td>Bitconeeeeeeeeeeeeeeeect👍</td>\n",
       "      <td>27</td>\n",
       "      <td>2018-02-04 18:53:36</td>\n",
       "      <td>1</td>\n",
       "    </tr>\n",
       "    <tr>\n",
       "      <th>10</th>\n",
       "      <td>The only inaccurate part is the alts at the to...</td>\n",
       "      <td>17</td>\n",
       "      <td>2018-02-04 18:47:40</td>\n",
       "      <td>1</td>\n",
       "    </tr>\n",
       "    <tr>\n",
       "      <th>11</th>\n",
       "      <td>Top Quality shit post. UPVOTE</td>\n",
       "      <td>167</td>\n",
       "      <td>2018-02-04 16:37:29</td>\n",
       "      <td>1</td>\n",
       "    </tr>\n",
       "    <tr>\n",
       "      <th>12</th>\n",
       "      <td>One of my favourite episodes!! This one and [t...</td>\n",
       "      <td>33</td>\n",
       "      <td>2018-02-04 17:25:29</td>\n",
       "      <td>1</td>\n",
       "    </tr>\n",
       "    <tr>\n",
       "      <th>13</th>\n",
       "      <td>needs \"D'hodl!\"</td>\n",
       "      <td>15</td>\n",
       "      <td>2018-02-04 19:00:06</td>\n",
       "      <td>1</td>\n",
       "    </tr>\n",
       "    <tr>\n",
       "      <th>14</th>\n",
       "      <td>What is dead may never die</td>\n",
       "      <td>41</td>\n",
       "      <td>2018-02-04 17:50:46</td>\n",
       "      <td>1</td>\n",
       "    </tr>\n",
       "    <tr>\n",
       "      <th>15</th>\n",
       "      <td>The memes are getting better &amp; better.</td>\n",
       "      <td>50</td>\n",
       "      <td>2018-02-04 16:33:08</td>\n",
       "      <td>1</td>\n",
       "    </tr>\n",
       "    <tr>\n",
       "      <th>16</th>\n",
       "      <td>I didn’t sell at 20k because it’s gonna hit 10...</td>\n",
       "      <td>83</td>\n",
       "      <td>2018-02-04 18:23:54</td>\n",
       "      <td>1</td>\n",
       "    </tr>\n",
       "    <tr>\n",
       "      <th>17</th>\n",
       "      <td>I can’t believe BTC investors are so annoyed t...</td>\n",
       "      <td>33</td>\n",
       "      <td>2018-02-04 19:01:25</td>\n",
       "      <td>1</td>\n",
       "    </tr>\n",
       "    <tr>\n",
       "      <th>18</th>\n",
       "      <td>WTF is a hodler</td>\n",
       "      <td>76</td>\n",
       "      <td>2018-02-04 18:06:56</td>\n",
       "      <td>1</td>\n",
       "    </tr>\n",
       "    <tr>\n",
       "      <th>19</th>\n",
       "      <td>So guessing this is true ? Will this affect th...</td>\n",
       "      <td>7</td>\n",
       "      <td>2018-02-04 18:39:01</td>\n",
       "      <td>1</td>\n",
       "    </tr>\n",
       "  </tbody>\n",
       "</table>\n",
       "</div>"
      ],
      "text/plain": [
       "                                                Reply  Upvote  \\\n",
       "0   Brilliant.\\r\\n\\r\\nEdit: \\r\\n\\r\\nWell, as I’m h...    4543   \n",
       "1   Awesome, except all the other coins fell in af...     744   \n",
       "2                                  Best Simpsons ever     858   \n",
       "3                   Simpsons predicted Bitcoin, again     369   \n",
       "4   The things that fall on Homers head are 1) Alt...     971   \n",
       "5           Remember Bitcoin? It’s back! In POG form!     139   \n",
       "6                                       This is gold.     117   \n",
       "7   proof that /r/HighQualityGifs  could be funny ...    1826   \n",
       "8   Is this why my friends on social media stopped...      33   \n",
       "9                           Bitconeeeeeeeeeeeeeeeect👍      27   \n",
       "10  The only inaccurate part is the alts at the to...      17   \n",
       "11                      Top Quality shit post. UPVOTE     167   \n",
       "12  One of my favourite episodes!! This one and [t...      33   \n",
       "13                                    needs \"D'hodl!\"      15   \n",
       "14                         What is dead may never die      41   \n",
       "15            The memes are getting better & better.       50   \n",
       "16  I didn’t sell at 20k because it’s gonna hit 10...      83   \n",
       "17  I can’t believe BTC investors are so annoyed t...      33   \n",
       "18                                   WTF is a hodler       76   \n",
       "19  So guessing this is true ? Will this affect th...       7   \n",
       "\n",
       "                   Time  Key  \n",
       "0   2018-02-04 15:49:03    1  \n",
       "1   2018-02-04 17:17:05    1  \n",
       "2   2018-02-04 16:05:41    1  \n",
       "3   2018-02-04 16:42:58    1  \n",
       "4   2018-02-04 17:39:30    1  \n",
       "5   2018-02-04 19:01:52    1  \n",
       "6   2018-02-04 16:31:44    1  \n",
       "7   2018-02-04 18:14:30    1  \n",
       "8   2018-02-04 21:14:00    1  \n",
       "9   2018-02-04 18:53:36    1  \n",
       "10  2018-02-04 18:47:40    1  \n",
       "11  2018-02-04 16:37:29    1  \n",
       "12  2018-02-04 17:25:29    1  \n",
       "13  2018-02-04 19:00:06    1  \n",
       "14  2018-02-04 17:50:46    1  \n",
       "15  2018-02-04 16:33:08    1  \n",
       "16  2018-02-04 18:23:54    1  \n",
       "17  2018-02-04 19:01:25    1  \n",
       "18  2018-02-04 18:06:56    1  \n",
       "19  2018-02-04 18:39:01    1  "
      ]
     },
     "execution_count": 3,
     "metadata": {},
     "output_type": "execute_result"
    }
   ],
   "source": [
    "comments.head(20)"
   ]
  },
  {
   "cell_type": "code",
   "execution_count": 4,
   "metadata": {},
   "outputs": [],
   "source": [
    "# Dropping Time and Key collumns to reduce dimensionality as they are not needed\n",
    "comments = comments.drop('Time', axis = 1)\n",
    "comments = comments.drop('Key', axis = 1)"
   ]
  },
  {
   "cell_type": "code",
   "execution_count": 5,
   "metadata": {},
   "outputs": [
    {
     "data": {
      "text/plain": [
       "(33101, 2)"
      ]
     },
     "execution_count": 5,
     "metadata": {},
     "output_type": "execute_result"
    }
   ],
   "source": [
    "comments.shape"
   ]
  },
  {
   "cell_type": "code",
   "execution_count": 6,
   "metadata": {},
   "outputs": [
    {
     "data": {
      "text/plain": [
       "Reply     object\n",
       "Upvote     int64\n",
       "dtype: object"
      ]
     },
     "execution_count": 6,
     "metadata": {},
     "output_type": "execute_result"
    }
   ],
   "source": [
    "comments.dtypes"
   ]
  },
  {
   "cell_type": "markdown",
   "metadata": {},
   "source": [
    "## Data Cleaning "
   ]
  },
  {
   "cell_type": "markdown",
   "metadata": {},
   "source": [
    "### 1. Droping null texts \n"
   ]
  },
  {
   "cell_type": "code",
   "execution_count": 7,
   "metadata": {},
   "outputs": [],
   "source": [
    "comments.dropna(subset=['Reply'], inplace=True)"
   ]
  },
  {
   "cell_type": "markdown",
   "metadata": {},
   "source": [
    "### 2. Removing punctuations and symbols"
   ]
  },
  {
   "cell_type": "code",
   "execution_count": 8,
   "metadata": {},
   "outputs": [],
   "source": [
    "comments.Reply = comments.Reply.apply(lambda x: re.sub(r'[^\\w\\s]', '', x) )"
   ]
  },
  {
   "cell_type": "markdown",
   "metadata": {},
   "source": [
    "### 3. Removing stopwords"
   ]
  },
  {
   "cell_type": "code",
   "execution_count": 9,
   "metadata": {},
   "outputs": [],
   "source": [
    "from nltk.corpus import stopwords\n",
    "stopwords = stopwords.words('english')\n",
    "comments.Reply = comments.Reply.apply(lambda x: ' '.join([word for word in nltk.word_tokenize(x) if word.lower() not in stopwords]))"
   ]
  },
  {
   "cell_type": "markdown",
   "metadata": {},
   "source": [
    "### 4. Removing links "
   ]
  },
  {
   "cell_type": "code",
   "execution_count": 10,
   "metadata": {},
   "outputs": [],
   "source": [
    "comments.Reply = comments.Reply.apply(lambda x: re.sub(r'\\(?http\\S+', '', x))"
   ]
  },
  {
   "cell_type": "markdown",
   "metadata": {},
   "source": [
    "### 5. Lemmatization and Tokenizing"
   ]
  },
  {
   "cell_type": "code",
   "execution_count": 11,
   "metadata": {},
   "outputs": [],
   "source": [
    "from nltk.stem import PorterStemmer\n",
    "porter_stemmer = PorterStemmer\n",
    "\n",
    "lemmatizer = nltk.WordNetLemmatizer()\n",
    "comments.Reply = comments.Reply.apply(lambda x: ' '.join([lemmatizer.lemmatize(word) for word in nltk.word_tokenize(x)]))"
   ]
  },
  {
   "cell_type": "code",
   "execution_count": 12,
   "metadata": {},
   "outputs": [
    {
     "data": {
      "text/plain": [
       "False"
      ]
     },
     "execution_count": 12,
     "metadata": {},
     "output_type": "execute_result"
    }
   ],
   "source": [
    "comments.dropna(subset=['Reply'], inplace=True)\n",
    "comments = comments[comments.Reply != '']\n",
    "comments.isnull().values.any()"
   ]
  },
  {
   "cell_type": "code",
   "execution_count": 13,
   "metadata": {},
   "outputs": [],
   "source": [
    "def preprocessing(reply):\n",
    "    reply = reply.apply(lambda x: re.sub(r'[^\\w\\s]', '', x) )"
   ]
  },
  {
   "cell_type": "markdown",
   "metadata": {},
   "source": [
    "## Data Exploration"
   ]
  },
  {
   "cell_type": "markdown",
   "metadata": {},
   "source": [
    "### 1. Wordcloud "
   ]
  },
  {
   "cell_type": "code",
   "execution_count": 14,
   "metadata": {},
   "outputs": [
    {
     "name": "stderr",
     "output_type": "stream",
     "text": [
      "\n",
      "Bad key \"text.kerning_factor\" on line 4 in\n",
      "D:\\Users\\micha\\anaconda3\\lib\\site-packages\\matplotlib\\mpl-data\\stylelib\\_classic_test_patch.mplstyle.\n",
      "You probably need to get an updated matplotlibrc file from\n",
      "http://github.com/matplotlib/matplotlib/blob/master/matplotlibrc.template\n",
      "or from the matplotlib source distribution\n"
     ]
    }
   ],
   "source": [
    "import wordcloud\n",
    "from wordcloud import WordCloud, STOPWORDS\n",
    "import matplotlib.pyplot as plt\n",
    "\n",
    "word_str = comments.iloc[:,:].Reply.str.cat(sep='. ')"
   ]
  },
  {
   "cell_type": "code",
   "execution_count": 15,
   "metadata": {},
   "outputs": [],
   "source": [
    "import random\n",
    "def grey_color_func(word, font_size, position, orientation, random_state=None, **kwargs):\n",
    "    return \"hsl(0, 0%%, %d%%)\" % random.randint(1, 20)"
   ]
  },
  {
   "cell_type": "code",
   "execution_count": 16,
   "metadata": {},
   "outputs": [
    {
     "data": {
      "image/png": "[encoded data removed]",
      "text/plain": [
       "<Figure size 720x1440 with 1 Axes>"
      ]
     },
     "metadata": {
      "needs_background": "light"
     },
     "output_type": "display_data"
    }
   ],
   "source": [
    "stp = STOPWORDS.copy()\n",
    "stp.update([('bitcoin'),('BTC'),('crypto'),('currency')])\n",
    "wc = WordCloud(background_color=\"white\", max_words=100,  stopwords=stp, collocations=False)\n",
    "# generate word cloud\n",
    "wc.generate(word_str)\n",
    "\n",
    "plt.figure(figsize=(10,20))\n",
    "plt.imshow(wc.recolor(random_state=3))\n",
    "plt.show()"
   ]
  },
  {
   "cell_type": "markdown",
   "metadata": {},
   "source": [
    "__Observation__: The word cloud shows that the majority of most frequently used words are neutral in nature. However, there seems to be words that have positive sentiment associated to them rather than negative, words such as 'good', 'well', 'value'. This is an important observation as it means that there is a high chance that the overall sentiment regarding bitCoin is positive."
   ]
  },
  {
   "cell_type": "markdown",
   "metadata": {},
   "source": [
    "### 2. Bigrams"
   ]
  },
  {
   "cell_type": "code",
   "execution_count": 17,
   "metadata": {},
   "outputs": [
    {
     "name": "stdout",
     "output_type": "stream",
     "text": [
      "[('InforTotesMessenger', 'ContactmessagecomposetorTotesMessenger'), ('bleep', 'bloop'), ('Withdraw', 'put_invoice_here'), ('Wall', 'Street'), ('Bill', 'Gates'), ('Balance', 'Deposit'), ('Mt', 'Gox'), ('FAQ', 'Information'), ('United', 'States'), ('put_invoice_here', 'Something'), ('Information', 'Source'), ('remove', 'v028'), ('Downvote', 'remove'), ('bloop', 'Someone'), ('Exclude', 'me'), ('me', 'Exclude'), ('net', 'neutrality'), ('Hi', 'uRed_Bagpipes'), ('Pineapple', 'Fund'), ('Donate', 'Downvote')]\n"
     ]
    }
   ],
   "source": [
    "from nltk.collocations import *\n",
    "\n",
    "all_text = comments.iloc[:].Reply.str.cat(sep='. ')\n",
    "all_text = nltk.word_tokenize(all_text)\n",
    "\n",
    "def common_bigrams(tokenized_text, min_freq, top_n):\n",
    "    bigram_measures = nltk.collocations.BigramAssocMeasures()\n",
    "    finder = BigramCollocationFinder.from_words(tokenized_text)\n",
    "    finder.apply_freq_filter(min_freq) \n",
    "    finder.nbest(bigram_measures.pmi, top_n)\n",
    "    return finder.nbest(bigram_measures.pmi, top_n)\n",
    "print(common_bigrams(all_text,20,20))"
   ]
  },
  {
   "cell_type": "markdown",
   "metadata": {},
   "source": [
    "__Observation__: The top 20 bigrams did not convey much regarding the sentiment values of Bitcoin. Rather, there are a lot of bigrams that are related to the topic itself which is expected, such as _('Wall', 'Street')_ or _('Pineapple', 'Fund')_ which is a philanthropic project by an anonymous individual which gave away 5,057 bitcoins to 60 charities."
   ]
  },
  {
   "cell_type": "markdown",
   "metadata": {},
   "source": [
    "# Sentiment Analysis"
   ]
  },
  {
   "cell_type": "code",
   "execution_count": 18,
   "metadata": {},
   "outputs": [],
   "source": [
    "from sklearn.model_selection import train_test_split\n",
    "from sklearn.feature_extraction.text import CountVectorizer, TfidfVectorizer\n",
    "from sklearn.naive_bayes import MultinomialNB, GaussianNB\n",
    "from sklearn import metrics\n",
    "import numpy as np"
   ]
  },
  {
   "cell_type": "markdown",
   "metadata": {},
   "source": [
    "## Prebuilt models"
   ]
  },
  {
   "cell_type": "markdown",
   "metadata": {},
   "source": [
    "### 1. Vader"
   ]
  },
  {
   "cell_type": "code",
   "execution_count": 19,
   "metadata": {},
   "outputs": [],
   "source": [
    "from nltk.sentiment.vader import SentimentIntensityAnalyzer, VaderConstants\n",
    "\n",
    "# First, initialize VADER\n",
    "vsid = SentimentIntensityAnalyzer()"
   ]
  },
  {
   "cell_type": "code",
   "execution_count": 20,
   "metadata": {},
   "outputs": [],
   "source": [
    "import copy\n",
    "# duplicate the 'comments' object \n",
    "vaderOut = copy.deepcopy(comments)\n",
    "\n",
    "# The output of the vader model is a dictionary so we just need to call .Series() function\n",
    "vaderOut[['Negative', 'Neutral', 'Positive', 'Compound']] = vaderOut.Reply.apply(lambda x: pd.Series(vsid.polarity_scores(x)))"
   ]
  },
  {
   "cell_type": "code",
   "execution_count": 21,
   "metadata": {},
   "outputs": [],
   "source": [
    "# This function is used to classify whether the comment is positive, negative or neutral\n",
    "# This will make comparative analysis easier later on\n",
    "def classifying(row):\n",
    "    if row['Compound'] > 0.2:\n",
    "        return 'positive'\n",
    "    elif row['Compound'] < -0.2:\n",
    "        return 'negative'\n",
    "    return 'neutral'"
   ]
  },
  {
   "cell_type": "code",
   "execution_count": 22,
   "metadata": {},
   "outputs": [],
   "source": [
    "vaderOut['Classification'] = vaderOut.apply(lambda row: classifying(row), axis=1)"
   ]
  },
  {
   "cell_type": "code",
   "execution_count": 23,
   "metadata": {},
   "outputs": [
    {
     "data": {
      "text/html": [
       "<div>\n",
       "<style scoped>\n",
       "    .dataframe tbody tr th:only-of-type {\n",
       "        vertical-align: middle;\n",
       "    }\n",
       "\n",
       "    .dataframe tbody tr th {\n",
       "        vertical-align: top;\n",
       "    }\n",
       "\n",
       "    .dataframe thead th {\n",
       "        text-align: right;\n",
       "    }\n",
       "</style>\n",
       "<table border=\"1\" class=\"dataframe\">\n",
       "  <thead>\n",
       "    <tr style=\"text-align: right;\">\n",
       "      <th></th>\n",
       "      <th>Reply</th>\n",
       "      <th>Upvote</th>\n",
       "      <th>Negative</th>\n",
       "      <th>Neutral</th>\n",
       "      <th>Positive</th>\n",
       "      <th>Compound</th>\n",
       "      <th>Classification</th>\n",
       "    </tr>\n",
       "  </thead>\n",
       "  <tbody>\n",
       "    <tr>\n",
       "      <th>0</th>\n",
       "      <td>Brilliant Edit Well Im may well make comment u...</td>\n",
       "      <td>4543</td>\n",
       "      <td>0.000</td>\n",
       "      <td>0.653</td>\n",
       "      <td>0.347</td>\n",
       "      <td>0.9260</td>\n",
       "      <td>positive</td>\n",
       "    </tr>\n",
       "    <tr>\n",
       "      <th>1</th>\n",
       "      <td>Awesome except coin fell lmao</td>\n",
       "      <td>744</td>\n",
       "      <td>0.000</td>\n",
       "      <td>0.273</td>\n",
       "      <td>0.727</td>\n",
       "      <td>0.8402</td>\n",
       "      <td>positive</td>\n",
       "    </tr>\n",
       "    <tr>\n",
       "      <th>2</th>\n",
       "      <td>Best Simpsons ever</td>\n",
       "      <td>858</td>\n",
       "      <td>0.000</td>\n",
       "      <td>0.323</td>\n",
       "      <td>0.677</td>\n",
       "      <td>0.6369</td>\n",
       "      <td>positive</td>\n",
       "    </tr>\n",
       "    <tr>\n",
       "      <th>3</th>\n",
       "      <td>Simpsons predicted Bitcoin</td>\n",
       "      <td>369</td>\n",
       "      <td>0.000</td>\n",
       "      <td>1.000</td>\n",
       "      <td>0.000</td>\n",
       "      <td>0.0000</td>\n",
       "      <td>neutral</td>\n",
       "    </tr>\n",
       "    <tr>\n",
       "      <th>4</th>\n",
       "      <td>thing fall Homers head 1 Altcoin boom 2 Fake g...</td>\n",
       "      <td>971</td>\n",
       "      <td>0.279</td>\n",
       "      <td>0.721</td>\n",
       "      <td>0.000</td>\n",
       "      <td>-0.4767</td>\n",
       "      <td>negative</td>\n",
       "    </tr>\n",
       "  </tbody>\n",
       "</table>\n",
       "</div>"
      ],
      "text/plain": [
       "                                               Reply  Upvote  Negative  \\\n",
       "0  Brilliant Edit Well Im may well make comment u...    4543     0.000   \n",
       "1                      Awesome except coin fell lmao     744     0.000   \n",
       "2                                 Best Simpsons ever     858     0.000   \n",
       "3                         Simpsons predicted Bitcoin     369     0.000   \n",
       "4  thing fall Homers head 1 Altcoin boom 2 Fake g...     971     0.279   \n",
       "\n",
       "   Neutral  Positive  Compound Classification  \n",
       "0    0.653     0.347    0.9260       positive  \n",
       "1    0.273     0.727    0.8402       positive  \n",
       "2    0.323     0.677    0.6369       positive  \n",
       "3    1.000     0.000    0.0000        neutral  \n",
       "4    0.721     0.000   -0.4767       negative  "
      ]
     },
     "execution_count": 23,
     "metadata": {},
     "output_type": "execute_result"
    }
   ],
   "source": [
    "vaderOut.head()"
   ]
  },
  {
   "cell_type": "markdown",
   "metadata": {},
   "source": [
    "### 2. Textblob "
   ]
  },
  {
   "cell_type": "code",
   "execution_count": 24,
   "metadata": {},
   "outputs": [],
   "source": [
    "from textblob.sentiments import NaiveBayesAnalyzer, PatternAnalyzer\n",
    "from textblob import Blobber\n",
    "\n",
    "# Initialize prebuilt model\n",
    "tba = Blobber(analyzer=NaiveBayesAnalyzer())"
   ]
  },
  {
   "cell_type": "code",
   "execution_count": 25,
   "metadata": {},
   "outputs": [],
   "source": [
    "# duplicate the 'comments' object \n",
    "textBlobOut = copy.deepcopy(comments)\n",
    "\n",
    "# The output of this model is not a dictionary but an array? with elements\n",
    "# So we have create a dictionary and return it to the Series() func\n",
    "textBlobOut[['Negative', 'Positive', 'Classification']] = textBlobOut.Reply.apply(lambda x: pd.Series({'Negative':tba(x).sentiment[2],\n",
    "                                                                                                      'Positive':tba(x).sentiment[1],\n",
    "                                                                                                      'Classification':tba(x).sentiment[0]}))"
   ]
  },
  {
   "cell_type": "code",
   "execution_count": 26,
   "metadata": {
    "scrolled": true
   },
   "outputs": [
    {
     "data": {
      "text/html": [
       "<div>\n",
       "<style scoped>\n",
       "    .dataframe tbody tr th:only-of-type {\n",
       "        vertical-align: middle;\n",
       "    }\n",
       "\n",
       "    .dataframe tbody tr th {\n",
       "        vertical-align: top;\n",
       "    }\n",
       "\n",
       "    .dataframe thead th {\n",
       "        text-align: right;\n",
       "    }\n",
       "</style>\n",
       "<table border=\"1\" class=\"dataframe\">\n",
       "  <thead>\n",
       "    <tr style=\"text-align: right;\">\n",
       "      <th></th>\n",
       "      <th>Upvote</th>\n",
       "      <th>Negative</th>\n",
       "      <th>Positive</th>\n",
       "    </tr>\n",
       "  </thead>\n",
       "  <tbody>\n",
       "    <tr>\n",
       "      <th>count</th>\n",
       "      <td>32703.000000</td>\n",
       "      <td>3.270300e+04</td>\n",
       "      <td>32703.000000</td>\n",
       "    </tr>\n",
       "    <tr>\n",
       "      <th>mean</th>\n",
       "      <td>15.912913</td>\n",
       "      <td>4.625646e-01</td>\n",
       "      <td>0.537435</td>\n",
       "    </tr>\n",
       "    <tr>\n",
       "      <th>std</th>\n",
       "      <td>146.423476</td>\n",
       "      <td>2.736296e-01</td>\n",
       "      <td>0.273630</td>\n",
       "    </tr>\n",
       "    <tr>\n",
       "      <th>min</th>\n",
       "      <td>-105.000000</td>\n",
       "      <td>1.709046e-30</td>\n",
       "      <td>0.000002</td>\n",
       "    </tr>\n",
       "    <tr>\n",
       "      <th>25%</th>\n",
       "      <td>1.000000</td>\n",
       "      <td>2.671118e-01</td>\n",
       "      <td>0.343535</td>\n",
       "    </tr>\n",
       "    <tr>\n",
       "      <th>50%</th>\n",
       "      <td>1.000000</td>\n",
       "      <td>4.686124e-01</td>\n",
       "      <td>0.531388</td>\n",
       "    </tr>\n",
       "    <tr>\n",
       "      <th>75%</th>\n",
       "      <td>4.000000</td>\n",
       "      <td>6.564649e-01</td>\n",
       "      <td>0.732888</td>\n",
       "    </tr>\n",
       "    <tr>\n",
       "      <th>max</th>\n",
       "      <td>11918.000000</td>\n",
       "      <td>9.999978e-01</td>\n",
       "      <td>1.000000</td>\n",
       "    </tr>\n",
       "  </tbody>\n",
       "</table>\n",
       "</div>"
      ],
      "text/plain": [
       "             Upvote      Negative      Positive\n",
       "count  32703.000000  3.270300e+04  32703.000000\n",
       "mean      15.912913  4.625646e-01      0.537435\n",
       "std      146.423476  2.736296e-01      0.273630\n",
       "min     -105.000000  1.709046e-30      0.000002\n",
       "25%        1.000000  2.671118e-01      0.343535\n",
       "50%        1.000000  4.686124e-01      0.531388\n",
       "75%        4.000000  6.564649e-01      0.732888\n",
       "max    11918.000000  9.999978e-01      1.000000"
      ]
     },
     "execution_count": 26,
     "metadata": {},
     "output_type": "execute_result"
    }
   ],
   "source": [
    "textBlobOut.describe()"
   ]
  },
  {
   "cell_type": "code",
   "execution_count": 27,
   "metadata": {},
   "outputs": [],
   "source": [
    "import matplotlib.pyplot as plt\n",
    "import seaborn as sns"
   ]
  },
  {
   "cell_type": "code",
   "execution_count": 28,
   "metadata": {},
   "outputs": [
    {
     "data": {
      "text/plain": [
       "array([[<matplotlib.axes._subplots.AxesSubplot object at 0x0000029B830825C8>,\n",
       "        <matplotlib.axes._subplots.AxesSubplot object at 0x0000029B82CFBFC8>],\n",
       "       [<matplotlib.axes._subplots.AxesSubplot object at 0x0000029B80512808>,\n",
       "        <matplotlib.axes._subplots.AxesSubplot object at 0x0000029B804D5448>],\n",
       "       [<matplotlib.axes._subplots.AxesSubplot object at 0x0000029B80549308>,\n",
       "        <matplotlib.axes._subplots.AxesSubplot object at 0x0000029B805490C8>]],\n",
       "      dtype=object)"
      ]
     },
     "execution_count": 28,
     "metadata": {},
     "output_type": "execute_result"
    },
    {
     "data": {
      "image/png": "[encoded data removed]",
      "text/plain": [
       "<Figure size 720x720 with 6 Axes>"
      ]
     },
     "metadata": {
      "needs_background": "light"
     },
     "output_type": "display_data"
    }
   ],
   "source": [
    "vaderOut.hist(figsize=(10,10))"
   ]
  },
  {
   "cell_type": "code",
   "execution_count": 29,
   "metadata": {},
   "outputs": [
    {
     "data": {
      "text/plain": [
       "array([[<matplotlib.axes._subplots.AxesSubplot object at 0x0000029B83082C08>,\n",
       "        <matplotlib.axes._subplots.AxesSubplot object at 0x0000029B823EF808>],\n",
       "       [<matplotlib.axes._subplots.AxesSubplot object at 0x0000029B823414C8>,\n",
       "        <matplotlib.axes._subplots.AxesSubplot object at 0x0000029B82355748>]],\n",
       "      dtype=object)"
      ]
     },
     "execution_count": 29,
     "metadata": {},
     "output_type": "execute_result"
    },
    {
     "data": {
      "image/png": "[encoded data removed]",
      "text/plain": [
       "<Figure size 720x720 with 4 Axes>"
      ]
     },
     "metadata": {
      "needs_background": "light"
     },
     "output_type": "display_data"
    }
   ],
   "source": [
    "textBlobOut.hist(figsize =(10,10))"
   ]
  },
  {
   "cell_type": "code",
   "execution_count": 30,
   "metadata": {},
   "outputs": [
    {
     "name": "stderr",
     "output_type": "stream",
     "text": [
      "D:\\Users\\micha\\anaconda3\\lib\\site-packages\\scipy\\stats\\stats.py:1713: FutureWarning: Using a non-tuple sequence for multidimensional indexing is deprecated; use `arr[tuple(seq)]` instead of `arr[seq]`. In the future this will be interpreted as an array index, `arr[np.array(seq)]`, which will result either in an error or a different result.\n",
      "  return np.add.reduce(sorted[indexer] * weights, axis=axis) / sumval\n"
     ]
    },
    {
     "data": {
      "text/plain": [
       "<matplotlib.axes._subplots.AxesSubplot at 0x29b82258e88>"
      ]
     },
     "execution_count": 30,
     "metadata": {},
     "output_type": "execute_result"
    },
    {
     "data": {
      "image/png": "[encoded data removed]",
      "text/plain": [
       "<Figure size 432x288 with 1 Axes>"
      ]
     },
     "metadata": {
      "needs_background": "light"
     },
     "output_type": "display_data"
    }
   ],
   "source": [
    "plt.title(\"Vader's distribution of compound scores\")\n",
    "sns.distplot(vaderOut['Compound'])"
   ]
  },
  {
   "cell_type": "code",
   "execution_count": 31,
   "metadata": {},
   "outputs": [
    {
     "data": {
      "text/plain": [
       "<matplotlib.axes._subplots.AxesSubplot at 0x29b82243ec8>"
      ]
     },
     "execution_count": 31,
     "metadata": {},
     "output_type": "execute_result"
    },
    {
     "data": {
      "image/png": "[encoded data removed]",
      "text/plain": [
       "<Figure size 432x288 with 1 Axes>"
      ]
     },
     "metadata": {
      "needs_background": "light"
     },
     "output_type": "display_data"
    }
   ],
   "source": [
    "plt.title(\"TextBlob's distribution of negative scores\")\n",
    "sns.distplot(textBlobOut['Negative'])"
   ]
  },
  {
   "cell_type": "code",
   "execution_count": 32,
   "metadata": {},
   "outputs": [
    {
     "data": {
      "text/plain": [
       "<matplotlib.axes._subplots.AxesSubplot at 0x29b80fa6988>"
      ]
     },
     "execution_count": 32,
     "metadata": {},
     "output_type": "execute_result"
    },
    {
     "data": {
      "image/png": "[encoded data removed]",
      "text/plain": [
       "<Figure size 432x288 with 1 Axes>"
      ]
     },
     "metadata": {
      "needs_background": "light"
     },
     "output_type": "display_data"
    }
   ],
   "source": [
    "plt.title(\"TextBlob's distribution of positive scores\")\n",
    "sns.distplot(textBlobOut['Positive'])"
   ]
  },
  {
   "cell_type": "markdown",
   "metadata": {},
   "source": [
    "__Observation:__ \n",
    "- One of the obvious observation is the differences between the measurement metrics between the 2 prebuilt models. The vader model score the sentimental values in 3 measurements, positive, negative and neutral while TextBlob only score base on positive and negative.\n",
    "- The Vader model plot of the distributed compound scores represent a bell curve which shows that the there is a large number of neutral comments. This is expected with a quick glance at the data that a lot of the comments regarding BitCoin are information based which is nonsentimental. However, the right side of the graph is bigger than the left, which shows an overall positive sentiment regarding BitCoin. \n",
    "- The textBlob distribution of negative and positive scores shows that there is a higher number of comments with a positive sentiment as the positive score distribution is slightly skewed to the right.\n",
    "\n",
    "__From these observations, we can conclude that there is a positive sentiment towards Bitcoin.__ "
   ]
  },
  {
   "cell_type": "markdown",
   "metadata": {},
   "source": [
    "## Training Model from Kaggle"
   ]
  },
  {
   "cell_type": "code",
   "execution_count": 33,
   "metadata": {},
   "outputs": [],
   "source": [
    "from sklearn.model_selection import train_test_split\n",
    "from sklearn.feature_extraction.text import CountVectorizer, TfidfVectorizer\n",
    "from sklearn.naive_bayes import MultinomialNB\n",
    "from sklearn import metrics\n",
    "import numpy as np"
   ]
  },
  {
   "cell_type": "markdown",
   "metadata": {},
   "source": [
    "### Load and preprocess training data"
   ]
  },
  {
   "cell_type": "code",
   "execution_count": 34,
   "metadata": {},
   "outputs": [],
   "source": [
    "train = pd.read_csv('train.csv')"
   ]
  },
  {
   "cell_type": "code",
   "execution_count": 35,
   "metadata": {},
   "outputs": [],
   "source": [
    "## 1. Droping null texts\n",
    "train.dropna(subset=['text'], inplace=True)\n",
    "## 2. Removing punctuations and symbols\n",
    "train.text = train.text.apply(lambda x: re.sub(r'[^\\w\\s]', '', x) )\n",
    "## 3. Removing stopwords\n",
    "train.text = train.text.apply(lambda x: ' '.join([word for word in nltk.word_tokenize(x) if word.lower() not in stopwords]))\n",
    "## 4. Removing links\n",
    "train.text = train.text.apply(lambda x: re.sub(r'\\(?http\\S+', '', x))\n",
    "## 5. Lemmatization and Tokenizing\n",
    "train.text = train.text.apply(lambda x: ' '.join([lemmatizer.lemmatize(word) for word in nltk.word_tokenize(x)]))"
   ]
  },
  {
   "cell_type": "code",
   "execution_count": 36,
   "metadata": {},
   "outputs": [
    {
     "data": {
      "text/plain": [
       "<27480x26934 sparse matrix of type '<class 'numpy.int64'>'\n",
       "\twith 193231 stored elements in Compressed Sparse Row format>"
      ]
     },
     "execution_count": 36,
     "metadata": {},
     "output_type": "execute_result"
    }
   ],
   "source": [
    "train_Y = train.sentiment\n",
    "# Vectorizing the dataset into a matrix to fit the model\n",
    "vectorizer = CountVectorizer()\n",
    "train.dropna(subset=['text'], inplace=True)\n",
    "train_X = vectorizer.fit_transform(train.text)\n",
    "train_X"
   ]
  },
  {
   "cell_type": "markdown",
   "metadata": {},
   "source": [
    "### Initlialize and train model"
   ]
  },
  {
   "cell_type": "code",
   "execution_count": 37,
   "metadata": {},
   "outputs": [
    {
     "data": {
      "text/plain": [
       "MultinomialNB(alpha=1.0, class_prior=None, fit_prior=True)"
      ]
     },
     "execution_count": 37,
     "metadata": {},
     "output_type": "execute_result"
    }
   ],
   "source": [
    "nb = MultinomialNB()\n",
    "nb.fit(train_X, train_Y)"
   ]
  },
  {
   "cell_type": "markdown",
   "metadata": {},
   "source": [
    "### Test the trained model "
   ]
  },
  {
   "cell_type": "code",
   "execution_count": 38,
   "metadata": {},
   "outputs": [
    {
     "data": {
      "text/plain": [
       "<32703x26934 sparse matrix of type '<class 'numpy.int64'>'\n",
       "\twith 372856 stored elements in Compressed Sparse Row format>"
      ]
     },
     "execution_count": 38,
     "metadata": {},
     "output_type": "execute_result"
    }
   ],
   "source": [
    "# vectorizing the business dataset for testing \n",
    "comments.dropna(subset=['Reply'], inplace=True)\n",
    "test_X = vectorizer.transform(comments.Reply)\n",
    "test_X"
   ]
  },
  {
   "cell_type": "code",
   "execution_count": 39,
   "metadata": {},
   "outputs": [],
   "source": [
    "# Get prediction \n",
    "predicted = nb.predict(test_X)\n",
    "prediction_data = copy.deepcopy(comments)\n",
    "prediction_data = prediction_data.assign(sentiment = predicted)"
   ]
  },
  {
   "cell_type": "code",
   "execution_count": 40,
   "metadata": {},
   "outputs": [
    {
     "data": {
      "text/html": [
       "<div>\n",
       "<style scoped>\n",
       "    .dataframe tbody tr th:only-of-type {\n",
       "        vertical-align: middle;\n",
       "    }\n",
       "\n",
       "    .dataframe tbody tr th {\n",
       "        vertical-align: top;\n",
       "    }\n",
       "\n",
       "    .dataframe thead th {\n",
       "        text-align: right;\n",
       "    }\n",
       "</style>\n",
       "<table border=\"1\" class=\"dataframe\">\n",
       "  <thead>\n",
       "    <tr style=\"text-align: right;\">\n",
       "      <th></th>\n",
       "      <th>Reply</th>\n",
       "      <th>Upvote</th>\n",
       "      <th>sentiment</th>\n",
       "    </tr>\n",
       "  </thead>\n",
       "  <tbody>\n",
       "    <tr>\n",
       "      <th>0</th>\n",
       "      <td>Brilliant Edit Well Im may well make comment u...</td>\n",
       "      <td>4543</td>\n",
       "      <td>neutral</td>\n",
       "    </tr>\n",
       "    <tr>\n",
       "      <th>1</th>\n",
       "      <td>Awesome except coin fell lmao</td>\n",
       "      <td>744</td>\n",
       "      <td>neutral</td>\n",
       "    </tr>\n",
       "    <tr>\n",
       "      <th>2</th>\n",
       "      <td>Best Simpsons ever</td>\n",
       "      <td>858</td>\n",
       "      <td>positive</td>\n",
       "    </tr>\n",
       "    <tr>\n",
       "      <th>3</th>\n",
       "      <td>Simpsons predicted Bitcoin</td>\n",
       "      <td>369</td>\n",
       "      <td>neutral</td>\n",
       "    </tr>\n",
       "    <tr>\n",
       "      <th>4</th>\n",
       "      <td>thing fall Homers head 1 Altcoin boom 2 Fake g...</td>\n",
       "      <td>971</td>\n",
       "      <td>negative</td>\n",
       "    </tr>\n",
       "  </tbody>\n",
       "</table>\n",
       "</div>"
      ],
      "text/plain": [
       "                                               Reply  Upvote sentiment\n",
       "0  Brilliant Edit Well Im may well make comment u...    4543   neutral\n",
       "1                      Awesome except coin fell lmao     744   neutral\n",
       "2                                 Best Simpsons ever     858  positive\n",
       "3                         Simpsons predicted Bitcoin     369   neutral\n",
       "4  thing fall Homers head 1 Altcoin boom 2 Fake g...     971  negative"
      ]
     },
     "execution_count": 40,
     "metadata": {},
     "output_type": "execute_result"
    }
   ],
   "source": [
    "prediction_data.head()"
   ]
  },
  {
   "cell_type": "markdown",
   "metadata": {},
   "source": [
    "## Analyzing the results of pretrained model and the trained model"
   ]
  },
  {
   "cell_type": "markdown",
   "metadata": {},
   "source": [
    "To compare between the pre-trained model and the trained model, I will compare the differences in the sentiment outputs from both models. \n",
    "\n",
    "__Note that I will only use the vader prebuilt model as the classification is more similar to that trained model.__"
   ]
  },
  {
   "cell_type": "code",
   "execution_count": 41,
   "metadata": {},
   "outputs": [],
   "source": [
    "# Number of positives, Negative and Neutral sentiments of the pretrained model\n",
    "pre_pos = vaderOut.Classification.value_counts().positive\n",
    "pre_neg = vaderOut.Classification.value_counts().negative\n",
    "pre_neu = vaderOut.Classification.value_counts().neutral\n",
    "\n",
    "# Number of positives, Negative and Neutral sentiments of the trained model\n",
    "\n",
    "pos = prediction_data.sentiment.value_counts().positive\n",
    "neg = prediction_data.sentiment.value_counts().negative\n",
    "neu = prediction_data.sentiment.value_counts().neutral"
   ]
  },
  {
   "cell_type": "code",
   "execution_count": 42,
   "metadata": {},
   "outputs": [
    {
     "name": "stdout",
     "output_type": "stream",
     "text": [
      "Pre-trained_positve = 13947\n",
      "Pre-trained_negative = 5665\n",
      "Pre-trained_neutral = 13091\n",
      "Trained_positve = 5238\n",
      "Trained_negative = 6377\n",
      "Trained_neutral = 21088\n"
     ]
    }
   ],
   "source": [
    "print(\"Pre-trained_positve = \" + str(pre_pos))\n",
    "print(\"Pre-trained_negative = \" + str(pre_neg))\n",
    "print(\"Pre-trained_neutral = \" + str(pre_neu))\n",
    "print(\"Trained_positve = \" + str(pos))\n",
    "print(\"Trained_negative = \" + str(neg))\n",
    "print(\"Trained_neutral = \" + str(neu))"
   ]
  },
  {
   "cell_type": "markdown",
   "metadata": {},
   "source": [
    "### Vizualizing the differences "
   ]
  },
  {
   "cell_type": "code",
   "execution_count": 43,
   "metadata": {},
   "outputs": [
    {
     "data": {
      "text/plain": [
       "<matplotlib.axes._subplots.AxesSubplot at 0x29b82f2b648>"
      ]
     },
     "execution_count": 43,
     "metadata": {},
     "output_type": "execute_result"
    },
    {
     "data": {
      "image/png": "[encoded data removed]",
      "text/plain": [
       "<Figure size 432x288 with 1 Axes>"
      ]
     },
     "metadata": {
      "needs_background": "light"
     },
     "output_type": "display_data"
    }
   ],
   "source": [
    "plt.title(\"Pretrained model sentiment output\")\n",
    "sns.countplot(vaderOut['Classification'])"
   ]
  },
  {
   "cell_type": "code",
   "execution_count": 44,
   "metadata": {},
   "outputs": [
    {
     "data": {
      "text/plain": [
       "<matplotlib.axes._subplots.AxesSubplot at 0x29bfd192ac8>"
      ]
     },
     "execution_count": 44,
     "metadata": {},
     "output_type": "execute_result"
    },
    {
     "data": {
      "image/png": "[encoded data removed]",
      "text/plain": [
       "<Figure size 432x288 with 1 Axes>"
      ]
     },
     "metadata": {
      "needs_background": "light"
     },
     "output_type": "display_data"
    }
   ],
   "source": [
    "plt.title(\"Trained model sentiment output\")\n",
    "sns.countplot(prediction_data['sentiment'])"
   ]
  },
  {
   "cell_type": "markdown",
   "metadata": {},
   "source": [
    "## Conclusion \n",
    "\n",
    "Looking at the sentiment classification of the pretrained model, there are a lot more positive comments than negative comments. Refering to past observations of the 2 prebuilt models, Bitcoin is believe to be positively perceived by the public. However, the model I have trained produced a significantly different result, showing a small number of positive sentiments with just over 5200 comments and pickups a higher number of negative sentiments.\n",
    "\n",
    "__This proves that the prebuilt model from the Vader package is more robust and that Bitcoin is posively preceived by the public and can be a potentially good investments for Private Investors__"
   ]
  }
 ],
 "metadata": {
  "kernelspec": {
   "display_name": "Python 3",
   "language": "python",
   "name": "python3"
  },
  "language_info": {
   "codemirror_mode": {
    "name": "ipython",
    "version": 3
   },
   "file_extension": ".py",
   "mimetype": "text/x-python",
   "name": "python",
   "nbconvert_exporter": "python",
   "pygments_lexer": "ipython3",
   "version": "3.7.7"
  }
 },
 "nbformat": 4,
 "nbformat_minor": 4
}
