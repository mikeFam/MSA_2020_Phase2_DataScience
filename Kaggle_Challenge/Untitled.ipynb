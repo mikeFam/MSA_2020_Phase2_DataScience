{
 "cells": [
  {
   "cell_type": "code",
   "execution_count": 1,
   "metadata": {},
   "outputs": [],
   "source": [
    "import re  ## This is the regular expression package\n",
    "\n",
    "import pandas as pd \n",
    "import nltk  ## Is a platform which has a lot of text processing, etc..\n"
   ]
  },
  {
   "cell_type": "code",
   "execution_count": 2,
   "metadata": {},
   "outputs": [],
   "source": [
    "comments = pd.read_csv('comments.csv')"
   ]
  },
  {
   "cell_type": "code",
   "execution_count": 3,
   "metadata": {},
   "outputs": [
    {
     "data": {
      "text/html": [
       "<div>\n",
       "<style scoped>\n",
       "    .dataframe tbody tr th:only-of-type {\n",
       "        vertical-align: middle;\n",
       "    }\n",
       "\n",
       "    .dataframe tbody tr th {\n",
       "        vertical-align: top;\n",
       "    }\n",
       "\n",
       "    .dataframe thead th {\n",
       "        text-align: right;\n",
       "    }\n",
       "</style>\n",
       "<table border=\"1\" class=\"dataframe\">\n",
       "  <thead>\n",
       "    <tr style=\"text-align: right;\">\n",
       "      <th></th>\n",
       "      <th>Reply</th>\n",
       "      <th>Time</th>\n",
       "      <th>Upvote</th>\n",
       "      <th>Key</th>\n",
       "    </tr>\n",
       "  </thead>\n",
       "  <tbody>\n",
       "    <tr>\n",
       "      <th>0</th>\n",
       "      <td>&gt; * New buyers can order wraps for their cars ...</td>\n",
       "      <td>2020-08-06 22:42:19</td>\n",
       "      <td>779</td>\n",
       "      <td>1</td>\n",
       "    </tr>\n",
       "    <tr>\n",
       "      <th>1</th>\n",
       "      <td>I hope their wraps are better than their paint.</td>\n",
       "      <td>2020-08-06 22:37:17</td>\n",
       "      <td>408</td>\n",
       "      <td>1</td>\n",
       "    </tr>\n",
       "    <tr>\n",
       "      <th>2</th>\n",
       "      <td>I’d leave it to the experts…</td>\n",
       "      <td>2020-08-06 23:04:55</td>\n",
       "      <td>823</td>\n",
       "      <td>1</td>\n",
       "    </tr>\n",
       "    <tr>\n",
       "      <th>3</th>\n",
       "      <td>gotta have some way to add color to the cyber ...</td>\n",
       "      <td>2020-08-06 23:34:37</td>\n",
       "      <td>140</td>\n",
       "      <td>1</td>\n",
       "    </tr>\n",
       "    <tr>\n",
       "      <th>4</th>\n",
       "      <td>Smart of them to try to capture some of that m...</td>\n",
       "      <td>2020-08-06 23:27:31</td>\n",
       "      <td>169</td>\n",
       "      <td>1</td>\n",
       "    </tr>\n",
       "  </tbody>\n",
       "</table>\n",
       "</div>"
      ],
      "text/plain": [
       "                                               Reply                 Time  \\\n",
       "0  > * New buyers can order wraps for their cars ...  2020-08-06 22:42:19   \n",
       "1    I hope their wraps are better than their paint.  2020-08-06 22:37:17   \n",
       "2                       I’d leave it to the experts…  2020-08-06 23:04:55   \n",
       "3  gotta have some way to add color to the cyber ...  2020-08-06 23:34:37   \n",
       "4  Smart of them to try to capture some of that m...  2020-08-06 23:27:31   \n",
       "\n",
       "   Upvote  Key  \n",
       "0     779    1  \n",
       "1     408    1  \n",
       "2     823    1  \n",
       "3     140    1  \n",
       "4     169    1  "
      ]
     },
     "execution_count": 3,
     "metadata": {},
     "output_type": "execute_result"
    }
   ],
   "source": [
    "comments.head()"
   ]
  },
  {
   "cell_type": "code",
   "execution_count": 4,
   "metadata": {},
   "outputs": [
    {
     "data": {
      "text/plain": [
       "'How long do these wraps last before they start to fade and peel?'"
      ]
     },
     "execution_count": 4,
     "metadata": {},
     "output_type": "execute_result"
    }
   ],
   "source": [
    "sample = comments.Reply.iloc[14]\n",
    "sample"
   ]
  },
  {
   "cell_type": "code",
   "execution_count": 5,
   "metadata": {},
   "outputs": [
    {
     "data": {
      "text/plain": [
       "'How long do these wraps last before they start to fade and peel?'"
      ]
     },
     "execution_count": 5,
     "metadata": {},
     "output_type": "execute_result"
    }
   ],
   "source": [
    "re.sub(r'\\(?http\\S+', '', sample)"
   ]
  },
  {
   "cell_type": "code",
   "execution_count": 6,
   "metadata": {},
   "outputs": [
    {
     "data": {
      "text/plain": [
       "['Why',\n",
       " 'do',\n",
       " \"n't\",\n",
       " 'they',\n",
       " 'just',\n",
       " 'invest',\n",
       " 'in',\n",
       " 'paint',\n",
       " 'shop',\n",
       " 'and',\n",
       " 'QC',\n",
       " 'so',\n",
       " 'that',\n",
       " 'people',\n",
       " 'do',\n",
       " \"n't\",\n",
       " 'need',\n",
       " 'to',\n",
       " 'wrap',\n",
       " 'the',\n",
       " 'cars',\n",
       " '?',\n",
       " 'Edit',\n",
       " ':',\n",
       " 'INB4',\n",
       " 'I',\n",
       " 'get',\n",
       " 'jumped',\n",
       " 'on',\n",
       " 'by',\n",
       " 'downvoters',\n",
       " '-',\n",
       " 'you',\n",
       " 'do',\n",
       " \"n't\",\n",
       " 'see',\n",
       " 'buyers',\n",
       " 'wrapping',\n",
       " 'their',\n",
       " 'new',\n",
       " 'Audis',\n",
       " 'or',\n",
       " 'BMWs',\n",
       " ',',\n",
       " 'right',\n",
       " '?',\n",
       " 'd',\n",
       " ';',\n",
       " 'o',\n",
       " ')']"
      ]
     },
     "execution_count": 6,
     "metadata": {},
     "output_type": "execute_result"
    }
   ],
   "source": [
    "sample = comments.Reply.iloc[9]\n",
    "sample\n",
    "word_tokenized = nltk.word_tokenize(sample)\n",
    "word_tokenized"
   ]
  },
  {
   "cell_type": "markdown",
   "metadata": {},
   "source": [
    "## Bigrams"
   ]
  },
  {
   "cell_type": "code",
   "execution_count": 7,
   "metadata": {},
   "outputs": [],
   "source": [
    "sample = ['more', 'is', 'said', ]"
   ]
  }
 ],
 "metadata": {
  "kernelspec": {
   "display_name": "Python 3",
   "language": "python",
   "name": "python3"
  },
  "language_info": {
   "codemirror_mode": {
    "name": "ipython",
    "version": 3
   },
   "file_extension": ".py",
   "mimetype": "text/x-python",
   "name": "python",
   "nbconvert_exporter": "python",
   "pygments_lexer": "ipython3",
   "version": "3.7.7"
  }
 },
 "nbformat": 4,
 "nbformat_minor": 4
}
